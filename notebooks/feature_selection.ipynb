{
 "cells": [
  {
   "cell_type": "markdown",
   "metadata": {},
   "source": [
    "Trabajaremos con el archivo **final_consumo_agua** que se obtiene después de realizar el análisis exploratorio de datos."
   ]
  },
  {
   "cell_type": "code",
   "execution_count": null,
   "metadata": {},
   "outputs": [],
   "source": [
    "%run main_file.py"
   ]
  },
  {
   "cell_type": "code",
   "execution_count": null,
   "metadata": {},
   "outputs": [],
   "source": [
    "final_consumo_agua.head()"
   ]
  },
  {
   "cell_type": "markdown",
   "metadata": {},
   "source": [
    "# Feature Selection "
   ]
  },
  {
   "cell_type": "code",
   "execution_count": null,
   "metadata": {},
   "outputs": [],
   "source": [
    "import pandas as pd\n",
    "import feature_selection"
   ]
  },
  {
   "cell_type": "markdown",
   "metadata": {},
   "source": [
    "Definimos las variables numéricas y categóricas de interés:"
   ]
  },
  {
   "cell_type": "code",
   "execution_count": null,
   "metadata": {},
   "outputs": [],
   "source": [
    "numeric_variables = ['consumo_total_mixto', 'consumo_prom_dom',\n",
    "       'consumo_total_dom', 'consumo_prom_mixto', 'consumo_prom',\n",
    "       'consumo_prom_no_dom', 'consumo_total_no_dom', 'latitud', 'longitud']\n",
    "string_variables = ['alcaldia', 'indice_des','bimestre']"
   ]
  },
  {
   "cell_type": "markdown",
   "metadata": {},
   "source": [
    "Dividimos nuestro dataframe en la variable a predecir **y_outcome** y las variables que nos ayudaran en el modelo **x_regressors**."
   ]
  },
  {
   "cell_type": "code",
   "execution_count": null,
   "metadata": {},
   "outputs": [],
   "source": [
    "y_output = final_consumo_agua['consumo_total']\n",
    "x_regressors = pd.concat([final_consumo_agua[numeric_variables], final_consumo_agua[string_variables]], axis = 1)"
   ]
  },
  {
   "cell_type": "markdown",
   "metadata": {},
   "source": [
    "Imputamos y estandarizamos las variables numéricas"
   ]
  },
  {
   "cell_type": "code",
   "execution_count": null,
   "metadata": {},
   "outputs": [],
   "source": [
    "imputed_vars = feature_selection.mean_imputation_for_numeric_vars(x_regressors, numeric_variables)\n",
    "\n",
    "standardized_vars = feature_selection.standardization_for_numeric_vars(imputed_vars)\n",
    "\n",
    "# Asignamos nuevamente al dataframe de interés\n",
    "x_regressors.loc[:, numeric_variables] = standardized_vars"
   ]
  },
  {
   "cell_type": "markdown",
   "metadata": {},
   "source": [
    "Hacemos el *hot encoding* para las variables categoricas"
   ]
  },
  {
   "cell_type": "code",
   "execution_count": null,
   "metadata": {},
   "outputs": [],
   "source": [
    "dummies = feature_selection.transforma_cat_dummies(x_regressors, string_variables, True)"
   ]
  },
  {
   "cell_type": "markdown",
   "metadata": {},
   "source": [
    "Eliminamos las variables categoricas y añadimos las nuevas variables dummies"
   ]
  },
  {
   "cell_type": "code",
   "execution_count": null,
   "metadata": {},
   "outputs": [],
   "source": [
    "x_regressors = pd.concat([x_regressors, dummies], axis = 1)\n",
    "\n",
    "x_regressors = x_regressors.drop(string_variables, axis = 1)\n",
    "\n",
    "print(\"Se tiene 1 constante mas {} variables: {} \".format(x_regressors.shape[1], x_regressors.columns))"
   ]
  },
  {
   "cell_type": "markdown",
   "metadata": {},
   "source": [
    "## Backward selection\n",
    "\n",
    "Definimos el valor de corte para el p-value"
   ]
  },
  {
   "cell_type": "code",
   "execution_count": null,
   "metadata": {},
   "outputs": [],
   "source": [
    "P_VALUE_THRESHOLD = 0.05"
   ]
  },
  {
   "cell_type": "code",
   "execution_count": null,
   "metadata": {},
   "outputs": [],
   "source": [
    "selected_vars = feature_selection.backward_selection(y_output, x_regressors, P_VALUE_THRESHOLD)"
   ]
  },
  {
   "cell_type": "code",
   "execution_count": null,
   "metadata": {},
   "outputs": [],
   "source": [
    "print(\"Se tienen {} variables -incluyendo la cte: {} \".format(selected_vars.shape[1], selected_vars.columns))"
   ]
  },
  {
   "cell_type": "markdown",
   "metadata": {},
   "source": [
    "## Chi-squared selection\n",
    "\n",
    "Realizamos el one hot encoding para categoricas (dummies)"
   ]
  },
  {
   "cell_type": "code",
   "execution_count": null,
   "metadata": {},
   "outputs": [],
   "source": [
    "categoricas_dummies = feature_selection.transforma_cat_dummies(final_consumo_agua, ['alcaldia','indice_des'], False)"
   ]
  },
  {
   "cell_type": "markdown",
   "metadata": {},
   "source": [
    "Convertimos la variable consumo en una variable binaria"
   ]
  },
  {
   "cell_type": "code",
   "execution_count": null,
   "metadata": {},
   "outputs": [],
   "source": [
    "consumo_alto = feature_selection.transforma_num_a_binaria(final_consumo_agua,'consumo_total','consumo_alto',0.75)"
   ]
  },
  {
   "cell_type": "markdown",
   "metadata": {},
   "source": [
    "Realizamos la prueba chi-cuadrada para las variables categoricas"
   ]
  },
  {
   "cell_type": "code",
   "execution_count": null,
   "metadata": {},
   "outputs": [],
   "source": [
    "prueba_chi = feature_selection.chi_squared(categoricas_dummies, consumo_alto)"
   ]
  },
  {
   "cell_type": "markdown",
   "metadata": {},
   "source": [
    "Filtramos las variables de las cuales rechazamos independencia, mismas que se utilizaran como variables predictivas"
   ]
  },
  {
   "cell_type": "code",
   "execution_count": null,
   "metadata": {},
   "outputs": [],
   "source": [
    "vars_seleccionadas = prueba_chi[prueba_chi['significativo'] == 'no significativo']['var_cat_predictivas']\n",
    "print(vars_seleccionadas)"
   ]
  }
 ],
 "metadata": {
  "kernelspec": {
   "display_name": "envPy3",
   "language": "python",
   "name": "envpy3"
  },
  "language_info": {
   "codemirror_mode": {
    "name": "ipython",
    "version": 3
   },
   "file_extension": ".py",
   "mimetype": "text/x-python",
   "name": "python",
   "nbconvert_exporter": "python",
   "pygments_lexer": "ipython3",
   "version": "3.7.4"
  }
 },
 "nbformat": 4,
 "nbformat_minor": 2
}
