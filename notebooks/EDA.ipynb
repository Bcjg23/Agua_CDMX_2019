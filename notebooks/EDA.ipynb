{
 "cells": [
  {
   "cell_type": "code",
   "execution_count": null,
   "metadata": {},
   "outputs": [],
   "source": [
    "import pandas as pd\n",
    "import numpy as np\n",
    "import os as os\n",
    "# Las sigs librerias son para el GDA\n",
    "import seaborn as sns\n",
    "import matplotlib.pyplot as plt\n",
    "import plotly.graph_objects as go"
   ]
  },
  {
   "cell_type": "markdown",
   "metadata": {},
   "source": [
    " ## 1. Ingestión de datos \n",
    "- ¿Cuántas variables tenemos?\n",
    "- ¿Cuántas observaciones tenemos?\n",
    "- ¿Cuántas observaciones únicas tenemos por variable?\n",
    "- ¿Cuántas variables numéricas tenemos?\n",
    "- ¿Cuántas variables de fecha tenemos?\n",
    "- ¿Cuántas variables categóricas tenemos?\n",
    "- ¿Cuántas variables de texto tenemos?"
   ]
  },
  {
   "cell_type": "code",
   "execution_count": null,
   "metadata": {},
   "outputs": [],
   "source": [
    "# Path to data file\n",
    "path_to_datafile = '/home/bj/Documents/IntroDataScience/Tareas/eda_hw/Data'\n",
    "# Name of data file\n",
    "datafile_name = 'consumo-agua.csv'"
   ]
  },
  {
   "cell_type": "code",
   "execution_count": null,
   "metadata": {},
   "outputs": [],
   "source": [
    "def load_df(name_data, path_to_data = os.getcwd(), separator = ','):\n",
    "    \"\"\"\n",
    "    This function loads the data file\n",
    "    \n",
    "    param:  name_data is a string with the name of the file we want to load\n",
    "            path_to_data is a string with the path to where name_data is. Default is the current working dir\n",
    "            sep is a string to indicate the separator. Default is ','\n",
    "    return: data_frame with the information in the file name_data\n",
    "    \"\"\"\n",
    "    return pd.read_csv(path_to_data + '/' + name_data, sep = separator)"
   ]
  },
  {
   "cell_type": "code",
   "execution_count": null,
   "metadata": {},
   "outputs": [],
   "source": [
    "consumo_agua = load_df(datafile_name, path_to_datafile, ';')"
   ]
  },
  {
   "cell_type": "code",
   "execution_count": null,
   "metadata": {},
   "outputs": [],
   "source": [
    "def df_variables_info(df):\n",
    "    \"\"\"\n",
    "    This function gives information about the df: number of observations, variables, type and number of variables\n",
    "    \n",
    "    params: df is a dataframe from which we want the information\n",
    "    return: NONE???!!!!\n",
    "    \"\"\"\n",
    "    # Number of variables\n",
    "    print('Number of variables:', df.shape[1])\n",
    "    \n",
    "    #  Number of observations\n",
    "    print('Number of observations:', df.shape[0])\n",
    "    \n",
    "    # Summary of the type of variables in the dataframe\n",
    "    print('Type of variables in the dataframe: \\n', df.dtypes.value_counts())\n",
    "    \n",
    "    return None\n"
   ]
  },
  {
   "cell_type": "code",
   "execution_count": null,
   "metadata": {},
   "outputs": [],
   "source": [
    "df_variables_info(consumo_agua)"
   ]
  },
  {
   "cell_type": "code",
   "execution_count": null,
   "metadata": {},
   "outputs": [],
   "source": [
    "df = consumo_agua\n",
    "\n",
    "# Identify numeric variables in the df  \n",
    "numeric_variables = df.select_dtypes(include = 'number').columns.values \n",
    "print('Numeric variables:', numeric_variables)\n",
    "    \n",
    "# Identify categorical variables in the df  \n",
    "categorical_variables = df.select_dtypes(include = 'category').columns.values   \n",
    "print('Categorical variables:', categorical_variables)\n",
    "    \n",
    "# Identify date/time variables in the df  \n",
    "dates_variables = df.select_dtypes(include = 'datetime').columns.values   \n",
    "print('Date/Time variables:', dates_variables)\n",
    "\n",
    "# Identify string variables in the df  \n",
    "string_variables = df.select_dtypes(include = 'object').columns.values   \n",
    "print('String variables:', string_variables)    "
   ]
  },
  {
   "cell_type": "code",
   "execution_count": null,
   "metadata": {},
   "outputs": [],
   "source": [
    "consumo_agua.head()\n",
    "consumo_agua.columns"
   ]
  },
  {
   "cell_type": "markdown",
   "metadata": {},
   "source": [
    "## 2. Estandarización de nombres de variables."
   ]
  },
  {
   "cell_type": "markdown",
   "metadata": {},
   "source": [
    "- Transformar los nombres de las variables a formato estándar: minúsculas, sin espacios en blanco, sin signos de puntuación."
   ]
  },
  {
   "cell_type": "markdown",
   "metadata": {},
   "source": [
    "Transformar los nombres de las variables a formato estándar: minúsculas, sin espacios en blanco, sin signos de puntuación."
   ]
  },
  {
   "cell_type": "code",
   "execution_count": null,
   "metadata": {},
   "outputs": [],
   "source": [
    "def clean_variables_names(data_frame):\n",
    "    \"\"\"\n",
    "    Clean the name of the columns for the data_frame: lowercase, no spaces, no accent marks\n",
    "    \n",
    "    param: data_frame to clean column names\n",
    "    return: data_frame with clean colum names\n",
    "    \"\"\"\n",
    "    \n",
    "    data_frame.columns = data_frame.columns.str.strip().str.lower().str.replace(' ','_')\\\n",
    "                       .str.replace('á','a').str.replace('é','e').str.replace('í','i')\\\n",
    "                       .str.replace('ó','o').str.replace('ú','u').str.replace('ñ','n')\n",
    "    return data_frame"
   ]
  },
  {
   "cell_type": "code",
   "execution_count": null,
   "metadata": {},
   "outputs": [],
   "source": [
    "clean_consumo_agua = clean_variables_names(consumo_agua)"
   ]
  },
  {
   "cell_type": "code",
   "execution_count": null,
   "metadata": {},
   "outputs": [],
   "source": [
    "clean_consumo_agua.columns"
   ]
  },
  {
   "cell_type": "code",
   "execution_count": null,
   "metadata": {},
   "outputs": [],
   "source": [
    "clean_consumo_agua.head()"
   ]
  },
  {
   "cell_type": "markdown",
   "metadata": {},
   "source": [
    "## 3. Transform data\n",
    "Tipos, estandarización de texto, imputaciones, eliminación de observaciones o variables\n",
    "- Agregar la variable latitud y longitud.\n",
    "- Pasar la variable latitud y longitud a numérica -si no la tomó como numérica-.\n",
    "- Eliminar la columna geo_point -una vez que creaste la variable latitud y longitud.\n",
    "- Eliminar la columna geo_shape.\n",
    "- Cambiar a minúsculas las columnas alcaldía, colonia e indice_des.\n",
    "- Volver a correr el proceso de identificación de variables numéricas, categóricas, texto y fechas."
   ]
  },
  {
   "cell_type": "markdown",
   "metadata": {},
   "source": [
    "Agregar la variable latitud y longitud.\n",
    "Pasar la variable latitud y longitud a numérica -si no la tomó como numérica-."
   ]
  },
  {
   "cell_type": "code",
   "execution_count": null,
   "metadata": {},
   "outputs": [],
   "source": [
    "def split_string_column_into_numeric_columns(df, column_name, separator, new_cols_name):\n",
    "    \"\"\"\n",
    "    This function splits the value in a column data frame that has string values into a separate numeric columns \n",
    "    \n",
    "    params: df_name is a dataframe that contains the column we want to split\n",
    "            colum_name is a string with the name of the column we want to split\n",
    "            separtor is a string that contains the separator\n",
    "            new_cols_name is a string list that contains the names for the splitted cols\n",
    "    \n",
    "    returns: df with the original column and the new columns named as in new_cols_name\n",
    "    \"\"\"\n",
    "    #Split the column\n",
    "    df[new_cols_name] =  df.loc[:, column_name ].str.split(separator, expand = True)\n",
    "    \n",
    "    for name in new_cols_name:\n",
    "        df[name] = pd.to_numeric(df[name])\n",
    "    \n",
    "    return df"
   ]
  },
  {
   "cell_type": "code",
   "execution_count": null,
   "metadata": {},
   "outputs": [],
   "source": [
    "clean_consumo_agua = split_string_column_into_numeric_columns(clean_consumo_agua, 'geo_point', ',',\n",
    "                                                              ['latitud', 'longitud'])"
   ]
  },
  {
   "cell_type": "code",
   "execution_count": null,
   "metadata": {},
   "outputs": [],
   "source": [
    "clean_consumo_agua.head()"
   ]
  },
  {
   "cell_type": "code",
   "execution_count": null,
   "metadata": {},
   "outputs": [],
   "source": [
    "df_variables_info(clean_consumo_agua)"
   ]
  },
  {
   "cell_type": "markdown",
   "metadata": {},
   "source": [
    "Eliminar la columna geo_point -una vez que creaste la variable latitud y longitud.\n",
    "Eliminar la columna geo_shape."
   ]
  },
  {
   "cell_type": "code",
   "execution_count": null,
   "metadata": {},
   "outputs": [],
   "source": [
    "clean_consumo_agua.drop(['geo_point','geo_shape'], axis = 1, inplace = True)"
   ]
  },
  {
   "cell_type": "code",
   "execution_count": null,
   "metadata": {},
   "outputs": [],
   "source": [
    "df_variables_info(clean_consumo_agua)"
   ]
  },
  {
   "cell_type": "markdown",
   "metadata": {},
   "source": [
    "Cambiar a minúsculas las columnas 'alcaldia', 'colonia' e 'indice_des'."
   ]
  },
  {
   "cell_type": "code",
   "execution_count": null,
   "metadata": {},
   "outputs": [],
   "source": [
    "def clean_variables_values(df, columns_names):\n",
    "    \"\"\"\n",
    "    Clean the values of the selected columns: lowercase, no spaces, no accent marks\n",
    "    \n",
    "    param: df is a dataframe where the variables to clean are\n",
    "           colum_names is a list with the name of the variables we are going to clean\n",
    "    return: df with clean colums\n",
    "    \"\"\"\n",
    "    for name in columns_names:\n",
    "        df[name] = df[name].str.strip().str.lower().str.replace('.','').str.replace(',','')\\\n",
    "                   .str.replace(';','').str.replace(' ','_').str.replace('á','a').str.replace('é','e')\\\n",
    "                   .str.replace('í','i').str.replace('ó','o').str.replace('ú','u').str.replace('ñ','n')\n",
    "    \n",
    "    return df"
   ]
  },
  {
   "cell_type": "code",
   "execution_count": null,
   "metadata": {},
   "outputs": [],
   "source": [
    "final_consumo_agua = clean_variables_values(clean_consumo_agua, ['nomgeo','alcaldia', 'colonia', 'indice_des'])"
   ]
  },
  {
   "cell_type": "code",
   "execution_count": null,
   "metadata": {},
   "outputs": [],
   "source": [
    "final_consumo_agua.head()"
   ]
  },
  {
   "cell_type": "markdown",
   "metadata": {},
   "source": [
    "Volver a correr el proceso de identificación de variables numéricas, categóricas, texto y fechas."
   ]
  },
  {
   "cell_type": "code",
   "execution_count": null,
   "metadata": {
    "scrolled": true
   },
   "outputs": [],
   "source": [
    "df_variables_info(final_consumo_agua)"
   ]
  },
  {
   "cell_type": "code",
   "execution_count": null,
   "metadata": {},
   "outputs": [],
   "source": [
    "df = final_consumo_agua\n",
    "\n",
    "# Identify numeric variables in the df  \n",
    "numeric_variables = df.select_dtypes(include = 'number').columns.values \n",
    "print('Numeric variables:', numeric_variables)\n",
    "\n",
    "# Identify categorical variables in the df  \n",
    "categorical_variables = df.select_dtypes(include = 'category').columns.values   \n",
    "print('Categorical variables:', categorical_variables)\n",
    "\n",
    "# Identify date/time variables in the df  \n",
    "dates_variables = df.select_dtypes(include = 'datetime').columns.values   \n",
    "print('Date/Time variables:', dates_variables)\n",
    "\n",
    "# Identify string variables in the df  \n",
    "string_variables = df.select_dtypes(include = 'object').columns.values   \n",
    "print('String variables:', string_variables)    "
   ]
  },
  {
   "cell_type": "markdown",
   "metadata": {},
   "source": [
    "## 4. Analizar data (EDA, GDA)"
   ]
  },
  {
   "cell_type": "markdown",
   "metadata": {},
   "source": [
    "### Data profiling"
   ]
  },
  {
   "cell_type": "markdown",
   "metadata": {},
   "source": [
    "#### Para **variables numéricas**:\n",
    "\n",
    "- Tipo de dato: float, integer\n",
    "- Número de observaciones\n",
    "- Mean\n",
    "- Desviación estándar\n",
    "- Cuartiles: 25%, 50%, 75%\n",
    "- Valor máximo\n",
    "- Valor mínimo\n",
    "- Número de observaciones únicos\n",
    "- Top 5 observaciones repetidas\n",
    "- Número de observaciones con valores faltantes\n",
    "- ¿Hay redondeos?"
   ]
  },
  {
   "cell_type": "code",
   "execution_count": null,
   "metadata": {},
   "outputs": [],
   "source": [
    "def data_profiling_num_vars(df, col_name):\n",
    "    \"\"\"\n",
    "    This function computes basic statistics for the numerical column col_name in the dataframe df\n",
    "    \n",
    "    params: df a dataframe that contains the column col_name\n",
    "            col_name a string with the name of the numerical variable from which we want to compute the statistics\n",
    "    returns: dic a dictionary with the name and values of the basic statistics\n",
    "    \"\"\"\n",
    "    top = df[col_name].value_counts().head(3).index.tolist()\n",
    "    #Check all lists have the same lenght\n",
    "    if len(top) != 3:\n",
    "        if len(top) == 2:\n",
    "            top.extend(['-'])\n",
    "        else:\n",
    "            top.extend(['-', '-'])\n",
    "    \n",
    "    dic = {'n_observations': df[col_name].count(),\n",
    "           'max': df[col_name].max(),\n",
    "           'min': df[col_name].min(),\n",
    "           'mean': df[col_name].mean(),\n",
    "           'std_dev': df[col_name].std(),\n",
    "           '25%': df[col_name].quantile(0.25),\n",
    "           'median': df[col_name].median(),\n",
    "           '75%': df[col_name].quantile(0.75),\n",
    "           'kurtosis': df[col_name].kurtosis(),\n",
    "           'skewness': df[col_name].skew(),\n",
    "           'n_unique_values': df[col_name].nunique(),\n",
    "           '%_missings': df[col_name].isna().mean()*100,\n",
    "           'Top1_most_common': top[0],\n",
    "           'Top2_most_common': top[1],\n",
    "           'Top3_most_common': top[2]\n",
    "          }\n",
    "           \n",
    "    return dic"
   ]
  },
  {
   "cell_type": "code",
   "execution_count": null,
   "metadata": {},
   "outputs": [],
   "source": [
    "def descriptive_stats_for_numeric_vars(df, num_vars):\n",
    "    \"\"\"\n",
    "    Show basic descriptive statistics for the numerical variables in the dataframe df\n",
    "    \n",
    "    param: df is a dataframe with numerical variables\n",
    "           num_vars is a list with the names of the numerical variables in the df\n",
    "           \n",
    "    return: stat_table is a dataframe with the statistics for each numerical variable in df\n",
    "    \"\"\"\n",
    "    stats_table = pd.DataFrame([data_profiling_num_vars(df, cols) for cols in num_vars]).transpose()\n",
    "    stats_table.columns = num_vars\n",
    "    \n",
    "    return stats_table\n"
   ]
  },
  {
   "cell_type": "code",
   "execution_count": null,
   "metadata": {},
   "outputs": [],
   "source": [
    "descriptive_stats_for_numeric_vars(final_consumo_agua, numeric_variables)"
   ]
  },
  {
   "cell_type": "code",
   "execution_count": null,
   "metadata": {},
   "outputs": [],
   "source": [
    "def descriptive_stats_for_numeric_vars2(df, num_vars):\n",
    "    \"\"\"\n",
    "    Show basic descriptive statistics for the numerical variables in the dataframe df\n",
    "    \n",
    "    param: df is a dataframe with numerical variables\n",
    "           num_vars is a list with the names of the numerical variables in the df\n",
    "           \n",
    "    return: stat_table is a dataframe with the statistics for each numerical variable in df\n",
    "    \"\"\"\n",
    "    stats_table1 = df[num_vars].describe().reindex(['count','max', 'min', 'mean', 'std', '25%', '50%', '75%'])\n",
    "    stats_table2 = df[num_vars].agg(['kurtosis', 'skew', 'nunique'], axis = 0)\n",
    "    stats_table = stats_table1.append(stats_table2)\n",
    "    stats_table = stats_table.rename(index = {'count': 'n_observations','nunique': 'unique_values', '50%': 'median'})\n",
    "    \n",
    "    t = pd.DataFrame(columns = num_vars, index = ['%_missings','Top1_most_common','Top2_most_common','Top3_most_common'])\n",
    "    \n",
    "    for var in num_vars:\n",
    "        #Compute proportion of missing values\n",
    "        prop_missings = df[var].isna().mean()*100\n",
    "        #Compute top3 most common values\n",
    "        top = df[var].value_counts().head(3).index.tolist()\n",
    "        #Check all lists have the same lenght\n",
    "        if len(top) != 3:\n",
    "            if len(top) == 2:\n",
    "                top.extend(['-'])\n",
    "            else:\n",
    "                top.extend(['-', '-'])\n",
    "        col = [prop_missings, top[0], top[1], top[2]]\n",
    "        #print(col)\n",
    "        t[var] = col\n",
    "    \n",
    "    \n",
    "    stats_table = stats_table.append(t)\n",
    "    \n",
    "    return stats_table.round(5)"
   ]
  },
  {
   "cell_type": "markdown",
   "metadata": {},
   "source": [
    "### Análisis gráfico para variables numéricas"
   ]
  },
  {
   "cell_type": "code",
   "execution_count": null,
   "metadata": {},
   "outputs": [],
   "source": [
    "def plot_missing_values(df):\n",
    "    \"\"\"\n",
    "    This function shows the missing values for all the variables in df\n",
    "    \"\"\"\n",
    "    sns.heatmap(df.isnull(), cbar=False)\n",
    "    "
   ]
  },
  {
   "cell_type": "code",
   "execution_count": null,
   "metadata": {},
   "outputs": [],
   "source": [
    "#plot_missing_values(final_consumo_agua)"
   ]
  },
  {
   "cell_type": "markdown",
   "metadata": {},
   "source": [
    "Las variables numéricas *consumo_total_mixto* y *consumo_prom_mixto* tienen aproximadamente un 12% de datos faltantes y de la gráfica anterior podemos observar que estos datos faltantes son similares en ambas variables. Lo mismo pasa para las columnas *consumo_total_dom* y *consumo_prom_dom* que tienen un 7% de datos faltantes y dichos datos faltantes se encuentran en las mismas observaciones."
   ]
  },
  {
   "cell_type": "code",
   "execution_count": null,
   "metadata": {},
   "outputs": [],
   "source": [
    "def plot_histogram(df, num_vars):\n",
    "    \"\"\"\n",
    "    This function plots the histogram fo each of the variables in num_vars\n",
    "    \n",
    "    params: df a dataframe that have numerical variables\n",
    "            num_vars the list of the numerical variables in df\n",
    "    returns: histograms\n",
    "    \"\"\"\n",
    "    for var in num_vars:\n",
    "        plt.figure(figsize=(8,5))\n",
    "        hist = sns.distplot(df[var].dropna(), kde = False)\n",
    "        titulo_graf = \"Histograma \" + var\n",
    "        hist.set_title(titulo_graf)\n",
    "        hist.set_ylabel(\"Frecuencia\")\n",
    "        plt.savefig(titulo_graf + \".png\")\n",
    "        plt.show()"
   ]
  },
  {
   "cell_type": "code",
   "execution_count": null,
   "metadata": {},
   "outputs": [],
   "source": [
    "#plot_histogram(final_consumo_agua, numeric_variables)"
   ]
  },
  {
   "cell_type": "markdown",
   "metadata": {},
   "source": [
    "De los histogramas podemos ver que las variable numericas tienen muchos valores atípicos. También notamos que la variable *bimestre* no es una variable numérica sino categórica, así como la variable *gid*.\n",
    "\n",
    "Por otro lado, las variables longitud y latitud estan dentro de un rango razonable para las coordenadas de la Ciudad de México. \n",
    "\n",
    "Coordenadas geográficas de Ciudad de México, [link][1] en grados decimales:\n",
    "\n",
    "        Longitud: -99.1276600\n",
    "        Latitud: 19.4284700\n",
    "\n",
    "[1]: https://embamex.sre.gob.mx/eua/index.php/es/enterate/391-acerca-de-mexico \"SRE\""
   ]
  },
  {
   "cell_type": "code",
   "execution_count": null,
   "metadata": {},
   "outputs": [],
   "source": [
    "#Delete variables: anio, gid, bimestre\n",
    "numeric_variables = np.delete(numeric_variables, [1, 8, 10])\n",
    "print(numeric_variables)"
   ]
  },
  {
   "cell_type": "code",
   "execution_count": null,
   "metadata": {},
   "outputs": [],
   "source": [
    "def boxplot_all(df, num_vars):\n",
    "    \"\"\"\n",
    "    This function plots the boxplot for all the variables in num_vars in one graph\n",
    "    \n",
    "    params: df a dataframe that have numerical variables\n",
    "            num_vars the list of the numerical variables in df\n",
    "    returns: one graph with multiple boxplots\n",
    "    \"\"\"\n",
    "    \n",
    "    sns.set(style=\"whitegrid\", palette=\"Blues\")\n",
    "    \n",
    "    plt.figure(figsize=(10,8))\n",
    "    sns.boxplot(y=\"variable\", x=\"value\", data=pd.melt(df[num_vars].dropna()), palette = 'Blues')\n",
    "    \n",
    "    plt.show()\n",
    "     "
   ]
  },
  {
   "cell_type": "code",
   "execution_count": null,
   "metadata": {},
   "outputs": [],
   "source": [
    "boxplot_all( final_consumo_agua, ['consumo_total_mixto', 'consumo_total_dom', 'consumo_total_no_dom'])"
   ]
  },
  {
   "cell_type": "code",
   "execution_count": null,
   "metadata": {
    "scrolled": true
   },
   "outputs": [],
   "source": [
    "#boxplot_all(final_consumo_agua, ['consumo_prom_mixto', 'consumo_prom_no_dom', 'consumo_prom_dom'])"
   ]
  },
  {
   "cell_type": "code",
   "execution_count": null,
   "metadata": {},
   "outputs": [],
   "source": [
    "def plot_by_pairs_grid(df, num_vars):\n",
    "    \"\"\"\n",
    "    This function plots the a grid of small subplots using scatter plots. Each row and column is assigned to a \n",
    "    different variable, so the resulting plot shows each pairwise relationship for all the variables in num_vars\n",
    "    \n",
    "    params: df a dataframe that have numerical variables\n",
    "            num_vars the list of the numerical variables in df\n",
    "    returns: one graph with multiple subplots\n",
    "    \"\"\"\n",
    "    g = sns.PairGrid(df[num_vars].dropna())\n",
    "    g.map_diag(plt.hist)\n",
    "    g.map_offdiag(plt.scatter)\n",
    "    "
   ]
  },
  {
   "cell_type": "code",
   "execution_count": null,
   "metadata": {},
   "outputs": [],
   "source": [
    "#plot_by_pairs_grid(final_consumo_agua, ['consumo_total_mixto', 'consumo_total_dom', 'consumo_total_no_dom'])\n",
    "\n",
    "#plot_by_pairs_grid(final_consumo_agua, ['consumo_prom_dom', 'consumo_prom_mixto'])\n",
    "#g = sns.pairplot(final_consumo_agua[['consumo_prom_dom', 'consumo_prom_mixto']].dropna())\n",
    "#g.map(plt.scatter)"
   ]
  },
  {
   "cell_type": "code",
   "execution_count": null,
   "metadata": {},
   "outputs": [],
   "source": [
    "def plot_heatmap_corr(df, num_vars):\n",
    "    \"\"\"\n",
    "    This function plots a Heatmap of correlation matrix for numerical variables. When plotting a correlation matrix\n",
    "    any non-numeric column is ignores. Categorical variables can be changed to numeric variables.\n",
    "    \n",
    "    \n",
    "    sns.heatmap(df[num_vars].corr(), annot = True, vmin=-1, vmax=1, center= 0, cmap= 'coolwarm', mask = mask_matrix)\n"
   ]
  },
  {
   "cell_type": "code",
   "execution_count": null,
   "metadata": {},
   "outputs": [],
   "source": [
    "#plot_heatmap_corr(final_consumo_agua, numeric_variables)"
   ]
  },
  {
   "cell_type": "code",
   "execution_count": null,
   "metadata": {},
   "outputs": [],
   "source": [
    "# filling a null values using fillna()  \n",
    "#data[\"Gender\"].fillna(\"No Gender\", inplace = True)  "
   ]
  },
  {
   "cell_type": "markdown",
   "metadata": {},
   "source": [
    "#### Para variables categoricas\n",
    "\n",
    "- Número de categorías\n",
    "- Valor de las categorías\n",
    "- Moda\n",
    "- Histograma\n",
    "- Valores faltantes\n",
    "- Número de observaciones con valores faltantes\n",
    "- Proporción de observaciones por categoría\n",
    "- Faltas de ortografía ?"
   ]
  },
  {
   "cell_type": "code",
   "execution_count": null,
   "metadata": {},
   "outputs": [],
   "source": [
    "def data_profiling_categorical_vars(df, col_name):\n",
    "    \"\"\"\n",
    "    Show basic descriptive statistics for othe categorical variable col_name in the dataframe df\n",
    "    \n",
    "    param: df is a dataframe with the column col_name\n",
    "           col_name is a string with the name of the categorical variable in the df\n",
    "           \n",
    "    return: dic a dictionary with name and value of the statistics computed\n",
    "    \"\"\"\n",
    "    top = df[col_name].value_counts().head(3).index.tolist()\n",
    "    #Check all lists have the same lenght\n",
    "    if len(top) != 3:\n",
    "        if len(top) == 2:\n",
    "            top.extend(['-'])\n",
    "        else:\n",
    "            top.extend(['-', '-'])\n",
    "    \n",
    "    dic = {'n_observations': df[col_name].count(),\n",
    "           'mode': df[col_name].mode()[0],\n",
    "           'num_categories': len(df[col_name].unique()),\n",
    "           'categories': df[col_name].unique(),\n",
    "           'n_unique_values': df[col_name].nunique(),\n",
    "           'n_missings': df[col_name].isna().sum(),\n",
    "           '%_missings': df[col_name].isna().mean()*100,\n",
    "           'Top1_most_common': top[0],\n",
    "           'Top2_most_common': top[1],\n",
    "           'Top3_most_common': top[2]\n",
    "          }\n",
    "    return dic\n",
    "    "
   ]
  },
  {
   "cell_type": "code",
   "execution_count": null,
   "metadata": {},
   "outputs": [],
   "source": [
    "def descriptive_stats_for_categorical_vars(df, cat_vars):\n",
    "    \"\"\"\n",
    "    Show basic descriptive statistics for the categorical variables in the dataframe df\n",
    "    \n",
    "    param: df is a dataframe with categorical variables\n",
    "           cat_vars is a list of the categorical variables in the df\n",
    "           \n",
    "    return: cat_table is a dataframe with the statistics for each categorical variable in df\n",
    "    \"\"\"\n",
    "    \n",
    "    stats_table = pd.DataFrame([data_profiling_categorical_vars(df, cols) for cols in cat_vars]).transpose()\n",
    "    stats_table.columns = cat_vars\n",
    "    \n",
    "    return stats_table"
   ]
  },
  {
   "cell_type": "code",
   "execution_count": null,
   "metadata": {},
   "outputs": [],
   "source": [
    "descriptive_stats_for_categorical_vars(final_consumo_agua, string_variables)\n",
    "#final_consumo_agua['alcaldia'].mode()"
   ]
  },
  {
   "cell_type": "code",
   "execution_count": null,
   "metadata": {},
   "outputs": [],
   "source": [
    "def descriptive_stats_for_categorical_vars2(df, cat_vars):\n",
    "    \"\"\"\n",
    "    Show basic descriptive statistics for the categorical variables in the dataframe df\n",
    "    \n",
    "    param: df is a dataframe with categorical variables\n",
    "           cat_vars is a list of the categorical variables in the df\n",
    "           \n",
    "    return: cat_table is a dataframe with the statistics for each categorical variable in df\n",
    "    \"\"\"\n",
    "    stats_table = df[cat_vars].describe().reindex(['count', 'top'])\n",
    "    stats_table = stats_table.rename(index = {'count': 'n_observations','top': 'mode'})\n",
    "    \n",
    "    t = pd.DataFrame(columns = cat_vars, index = ['n_categories', 'categories','n_missings','Top1_most_common','Top2_most_common','Top3_most_common'])\n",
    "    for var in cat_vars:\n",
    "        #Compute the number of missing values\n",
    "        n_missings = df[var].isna().sum()\n",
    "        #List the categories\n",
    "        cat_list = df[var].unique()\n",
    "        n_cat = len(cat_list)\n",
    "        #Compute top3 most common values\n",
    "        top = df[var].value_counts().head(3).index.tolist()\n",
    "        #Check all lists have the same lenght\n",
    "        if len(top) != 3:\n",
    "            if len(top) == 2:\n",
    "                top.extend(['-'])\n",
    "            else:\n",
    "                top.extend(['-', '-'])\n",
    "        col = [n_cat, cat_list, n_missings, top[0], top[1], top[2]]\n",
    "        #print(col)\n",
    "        t[var] = col\n",
    "    \n",
    "    stats_table = stats_table.append(t)\n",
    "    \n",
    "    return stats_table\n",
    "    "
   ]
  },
  {
   "cell_type": "markdown",
   "metadata": {},
   "source": [
    "Coordenadas geoespaciales:\n",
    "    \n",
    "- Primero se pone la latitud y luego la longitud\n",
    "- Primer decimal: 111 kms\n",
    "- Segundo decimal: 11.1 kms\n",
    "- Tercer decimal: 1.1 kms\n",
    "- Cuarto decimal: 11 mts\n",
    "- Quinto decimal: 1.1 mt\n",
    "- Sexto decimal: 0.11 mts\n",
    "- Valores que están cercanos al 100 representan la longitud\n",
    "- El símbolo en cada coordenada representa si estamos al norte (positivo) o sur (negativo) -en la latitud-, al este (positivo) o al oeste (negativo) -en la longitud-."
   ]
  },
  {
   "cell_type": "markdown",
   "metadata": {},
   "source": [
    "identificar errores en los datos\n",
    "conocer los datos\n",
    "establecer hipotesis\n",
    "entender el negocio\n"
   ]
  },
  {
   "cell_type": "markdown",
   "metadata": {},
   "source": [
    "**Notas aclaratorias**\n",
    "Tipo de emisión:\n",
    "- consumo medido: consumo medido con medidor\n",
    "- consumo_prom: Consumo promedio considerado como\n",
    "    - A) A falta de aparato medidor, corresponde a la colonia catastral en la que se encuentra el inmueble (siempre que en dicha colonia se mida el 70% de las tomas de agua)\n",
    "    - B) Por descompostura del aparato, se tomará el consumo promedio de los últimos 6 bimestres, quedando fuera el bimestre más alto\n",
    "\n",
    "- indice_des: indice de desarrollo construido estadisticamente con datos socioeconomicos"
   ]
  },
  {
   "cell_type": "markdown",
   "metadata": {},
   "source": [
    "### Análisis gráfico para variables categóricas"
   ]
  },
  {
   "cell_type": "code",
   "execution_count": null,
   "metadata": {},
   "outputs": [],
   "source": [
    "def graphics_for_categorical_vars(df, cat_vars):\n",
    "    \"\"\"\n",
    "    Show basic graphics for the categorical variables in the dataframe df\n",
    "    \n",
    "    param: df is a dataframe with categorical variables\n",
    "           cat_vars is a list of the categorical variables in the df\n",
    "           \n",
    "    return: NONE \n",
    "    \"\"\"\n",
    "    \n",
    "    for i in range(len(cat_vars)):\n",
    "        # Plot bar chart\n",
    "        df[cat_vars[i]].value_counts().plot(kind = 'barh', figsize = (8, 6))\n",
    "        plt.xlabel(\"Conteo\", labelpad = 14)\n",
    "        plt.ylabel(cat_vars[i], labelpad = 14)\n",
    "        titulo_graf = \"Grafica frecuencia \" + cat_vars[i]\n",
    "        plt.title(titulo_graf, y = 1.02)\n",
    "        plt.savefig(titulo_graf + \".png\")\n",
    "        plt.show()\n",
    "\n"
   ]
  },
  {
   "cell_type": "code",
   "execution_count": null,
   "metadata": {},
   "outputs": [],
   "source": [
    "#graphics_for_categorical_vars(final_consumo_agua, string_variables)"
   ]
  },
  {
   "cell_type": "markdown",
   "metadata": {},
   "source": [
    "# Algunas preguntas:\n",
    "\n",
    "- En que bimestre/s disminuye el consumo de agua?\n",
    "- Como esta el consumo de agua relacionado con el indice_des?\n",
    "- Como esta el consumo de agua relacionado con el indice_des y la colonia/alcaldia?\n",
    "- Consumo de agua por alcaldia/colonia\n",
    "- Quienes consumen mas agua? domicilios, negocios? que otros?"
   ]
  },
  {
   "cell_type": "code",
   "execution_count": null,
   "metadata": {},
   "outputs": [],
   "source": [
    "def plot_bivariate_hist(df, var1, var2):\n",
    "    \"\"\"\n",
    "    \"\"\"\n",
    "    sns.distplot( df[var1] , color=\"skyblue\", label=\"Sepal Length\")\n",
    "    sns.distplot( df[var2] , color=\"red\", label=\"Sepal Width\")\n",
    "    #sns.plt.legend()"
   ]
  },
  {
   "cell_type": "code",
   "execution_count": null,
   "metadata": {},
   "outputs": [],
   "source": [
    "plot_bivariate_hist(final_consumo_agua, 'consumo_total', 'consumo_prom')"
   ]
  },
  {
   "cell_type": "code",
   "execution_count": null,
   "metadata": {},
   "outputs": [],
   "source": [
    "def barplot_by_category(df, var, cat):\n",
    "    \"\"\"\n",
    "    This function shows a barplot for a numerical variable var by categories in cat\n",
    "    \"\"\"\n",
    "    sns.set(style=\"whitegrid\", palette = 'deep')\n",
    "    \n",
    "    plt.figure(figsize=(10,8))\n",
    "        \n",
    "    x_data = df.groupby(cat)[var].mean().sort_values(ascending = False)\n",
    "    titulo_graf = \"Promedio de \" + str(var) + \" por \" + str(cat) \n",
    "    \n",
    "    if (len(x_data)>20):\n",
    "        x_data = x_data[0:19]\n",
    "        titulo_graf = titulo_graf + \" (Top 20)\"\n",
    "        \n",
    "    x_plot = sns.barplot(x=x_data.values, y=x_data.index, data=df)\n",
    "    x_plot.set_title(titulo_graf)\n",
    "    plt.show()"
   ]
  },
  {
   "cell_type": "code",
   "execution_count": null,
   "metadata": {},
   "outputs": [],
   "source": [
    "final_consumo_agua.groupby('alcaldia')['consumo_total'].mean().sort_values(ascending = False)\n",
    "\n",
    "#barplot_by_category(final_consumo_agua, 'consumo_total', ['alcaldia', 'colonia'])\n"
   ]
  },
  {
   "cell_type": "code",
   "execution_count": null,
   "metadata": {},
   "outputs": [],
   "source": [
    "barplot_by_category(final_consumo_agua, 'consumo_total', 'indice_des')"
   ]
  },
  {
   "cell_type": "markdown",
   "metadata": {},
   "source": [
    "# 5. Backward selection"
   ]
  },
  {
   "cell_type": "code",
   "execution_count": null,
   "metadata": {},
   "outputs": [],
   "source": [
    "from sklearn.preprocessing import StandardScaler, OneHotEncoder, KBinsDiscretizer\n",
    "from sklearn.impute import SimpleImputer"
   ]
  },
  {
   "cell_type": "code",
   "execution_count": null,
   "metadata": {},
   "outputs": [],
   "source": [
    "print(numeric_variables, string_variables)\n"
   ]
  },
  {
   "cell_type": "code",
   "execution_count": null,
   "metadata": {},
   "outputs": [],
   "source": [
    "y_output = final_consumo_agua['consumo_total']\n",
    "x_regressors = final_consumo_agua.loc[:, final_consumo_agua.columns != 'consumo_total'].copy()\n",
    "#x_regressors.head()"
   ]
  },
  {
   "cell_type": "code",
   "execution_count": null,
   "metadata": {},
   "outputs": [],
   "source": [
    "# Imputar variables numericas con la \"media\"\n",
    "#numeric_variables = x_regressors.select_dtypes(include = 'number').columns.values\n",
    "# \n",
    "numeric_variables = ['consumo_total_mixto', 'consumo_prom_dom',\n",
    "       'consumo_total_dom', 'consumo_prom_mixto', 'consumo_prom',\n",
    "       'consumo_prom_no_dom', 'consumo_total_no_dom', 'latitud', 'longitud']\n",
    "\n",
    "#x_regressors.loc[:, numeric_variables] = vars_imputed \n"
   ]
  },
  {
   "cell_type": "code",
   "execution_count": null,
   "metadata": {},
   "outputs": [],
   "source": [
    "def mean_imputation_for_numeric_vars(df, num_vars):\n",
    "    \"\"\"\n",
    "    This function imputes missing values with the mean\n",
    "    \n",
    "    param: df dataframe containing the numeric variables\n",
    "           num_vars a list with the names of numeric variables\n",
    "    \n",
    "    return: vars_imputed numeric variables with no missing values\n",
    "    \"\"\"\n",
    "    aux = df[num_vars].values.reshape(df.shape[0],len(num_vars))\n",
    "    vars_imputer = SimpleImputer(strategy=\"mean\")\n",
    "    vars_imputer.fit(aux)\n",
    "    vars_imputed = vars_imputer.transform(aux)\n",
    "    \n",
    "    return vars_imputed"
   ]
  },
  {
   "cell_type": "code",
   "execution_count": null,
   "metadata": {},
   "outputs": [],
   "source": [
    "imputed_vars = mean_imputation_for_numeric_vars(x_regressors, numeric_variables)\n",
    "# Check I have no missings\n",
    "#descriptive_stats_for_numeric_vars(x_regressors, numeric_variables)"
   ]
  },
  {
   "cell_type": "code",
   "execution_count": null,
   "metadata": {},
   "outputs": [],
   "source": [
    "def standardization_for_numeric_vars(num_vars):\n",
    "    \"\"\"\n",
    "    This function imputes missing values with the mean\n",
    "    \n",
    "    param: num_vars a list with the names of numeric variables\n",
    "    \n",
    "    return: vars_standardized numeric variables standardized\n",
    "    \"\"\"\n",
    "    ## Instanciando el estimador StandardScaler con los valores por default\n",
    "    vars_standardization = StandardScaler()\n",
    "    ## Aplicando el estimador a los datos\n",
    "    vars_standardization.fit(num_vars)\n",
    "    vars_standardized = vars_standardization.transform(num_vars)\n",
    "\n",
    "    return vars_standardized\n"
   ]
  },
  {
   "cell_type": "code",
   "execution_count": null,
   "metadata": {},
   "outputs": [],
   "source": [
    "# Escalando los datos \n",
    "standardized_vars = standardization_for_numeric_vars(imputed_vars)\n",
    "\n",
    "#Asignamos nuevamente al df\n",
    "x_regressors.loc[:, numeric_variables] = vars_standardized "
   ]
  },
  {
   "cell_type": "code",
   "execution_count": null,
   "metadata": {},
   "outputs": [],
   "source": [
    "x_regressors.head()\n",
    "#descriptive_stats_for_numeric_vars(x_regressors, numeric_variables)"
   ]
  },
  {
   "cell_type": "code",
   "execution_count": null,
   "metadata": {},
   "outputs": [],
   "source": [
    "# hot encoding\n",
    "def transforma_cat_dummies(df,cat_vars):\n",
    "    df=pd.get_dummies(df[cat_vars], columns = cat_vars, drop_first = True)\n",
    "    #df=pd.get_dummies(df, columns = cat_vars, drop_first = True)\n",
    "    return df"
   ]
  },
  {
   "cell_type": "code",
   "execution_count": null,
   "metadata": {},
   "outputs": [],
   "source": [
    "string_variables = x_regressors.select_dtypes(include = 'object').columns.values\n",
    "print(string_variables)"
   ]
  },
  {
   "cell_type": "code",
   "execution_count": null,
   "metadata": {},
   "outputs": [],
   "source": [
    "#Hot encoding for categorical variables\n",
    "dummies = transforma_cat_dummies(x_regressors, ['alcaldia', 'indice_des','bimestre'])"
   ]
  },
  {
   "cell_type": "code",
   "execution_count": null,
   "metadata": {},
   "outputs": [],
   "source": [
    "# Elimino las variables categoricas y anado las dummies\n",
    "x_regressors = x_regressors.drop(string_variables, axis = 1)\n",
    "x_regressors = x_regressors.drop(['bimestre', 'anio', 'gid'], axis = 1)\n",
    "\n",
    "\n",
    "x_regressors = pd.concat([x_regressors, dummies], axis = 1)"
   ]
  },
  {
   "cell_type": "code",
   "execution_count": null,
   "metadata": {},
   "outputs": [],
   "source": [
    "x_regressors.head()"
   ]
  },
  {
   "cell_type": "code",
   "execution_count": null,
   "metadata": {},
   "outputs": [],
   "source": [
    "import statsmodels.api as sm"
   ]
  },
  {
   "cell_type": "code",
   "execution_count": null,
   "metadata": {},
   "outputs": [],
   "source": [
    "x_regressors = sm.add_constant(x_regressors)\n",
    "model = sm.OLS(y_output, x_regressors)"
   ]
  },
  {
   "cell_type": "code",
   "execution_count": null,
   "metadata": {},
   "outputs": [],
   "source": [
    "results = model.fit()\n",
    "print(results.summary())"
   ]
  },
  {
   "cell_type": "code",
   "execution_count": null,
   "metadata": {},
   "outputs": [],
   "source": [
    "pVals = results.pvalues\n",
    "#print(pVals)\n",
    "\n",
    "P_VALUE_THRESHOLD = 0.05\n",
    "\n",
    "no_significativa = pVals[pVals > P_VALUE_THRESHOLD]\n",
    "index = no_significativa.idxmax()\n",
    "\n",
    "x_regressors = x_regressors.drop(index, axis = 1)"
   ]
  },
  {
   "cell_type": "code",
   "execution_count": null,
   "metadata": {},
   "outputs": [],
   "source": [
    "def backward_selection(y, x, pVal_threshold):\n",
    "    \"\"\"\n",
    "    \"\"\"\n",
    "    x = sm.add_constant(x)\n",
    "    model = sm.OLS(y, x)\n",
    "    results = model.fit()\n",
    "    p_vals = results.pvalues\n",
    "    \n",
    "    drop_index = p_vals.idxmax()\n",
    "\n",
    "    while (p_vals[drop_index] > pVal_threshold):\n",
    "        x = x.drop(drop_index, axis = 1)\n",
    "        \n",
    "        model = sm.OLS(y, x)\n",
    "        results = model.fit()\n",
    "        p_vals = results.pvalues\n",
    "        \n",
    "        drop_index = p_vals.idxmax()\n",
    "        \n",
    "    return x"
   ]
  },
  {
   "cell_type": "code",
   "execution_count": null,
   "metadata": {},
   "outputs": [],
   "source": [
    "backward_selection(y_output, x_regressors, P_VALUE_THRESHOLD)\n"
   ]
  },
  {
   "cell_type": "code",
   "execution_count": null,
   "metadata": {},
   "outputs": [],
   "source": []
  }
 ],
 "metadata": {
  "kernelspec": {
   "display_name": "envPy3",
   "language": "python",
   "name": "envpy3"
  },
  "language_info": {
   "codemirror_mode": {
    "name": "ipython",
    "version": 3
   },
   "file_extension": ".py",
   "mimetype": "text/x-python",
   "name": "python",
   "nbconvert_exporter": "python",
   "pygments_lexer": "ipython3",
   "version": "3.7.4"
  }
 },
 "nbformat": 4,
 "nbformat_minor": 2
}
